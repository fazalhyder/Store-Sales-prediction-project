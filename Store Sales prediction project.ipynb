{
 "cells": [
  {
   "cell_type": "markdown",
   "id": "d0d5a437",
   "metadata": {},
   "source": [
    "# Introduction"
   ]
  },
  {
   "cell_type": "markdown",
   "id": "cad01a53",
   "metadata": {},
   "source": [
    "The data is provided with historical sales data for 1,115 Rossmann stores. The task is to forecast the \"Sales\" column for the test set. "
   ]
  },
  {
   "cell_type": "markdown",
   "id": "0920d618",
   "metadata": {},
   "source": [
    "# Importing Basic Libraries"
   ]
  },
  {
   "cell_type": "code",
   "execution_count": 1,
   "id": "b9b13092",
   "metadata": {},
   "outputs": [
    {
     "name": "stderr",
     "output_type": "stream",
     "text": [
      "c:\\users\\user\\anaconda3\\lib\\site-packages\\ipykernel_launcher.py:4: FutureWarning: The pandas.datetime class is deprecated and will be removed from pandas in a future version. Import from datetime module instead.\n",
      "  after removing the cwd from sys.path.\n"
     ]
    }
   ],
   "source": [
    "import numpy as np\n",
    "import pandas as pd\n",
    "import matplotlib.pyplot as plt\n",
    "from pandas import datetime as dt\n",
    "import seaborn as sns"
   ]
  },
  {
   "cell_type": "markdown",
   "id": "f3c48712",
   "metadata": {},
   "source": [
    "Reading Data :"
   ]
  },
  {
   "cell_type": "code",
   "execution_count": 3,
   "id": "3b2b0a6b",
   "metadata": {},
   "outputs": [],
   "source": [
    "train = pd.read_csv('train.csv',low_memory = False)"
   ]
  },
  {
   "cell_type": "code",
   "execution_count": 4,
   "id": "9d275588",
   "metadata": {},
   "outputs": [
    {
     "data": {
      "text/html": [
       "<div>\n",
       "<style scoped>\n",
       "    .dataframe tbody tr th:only-of-type {\n",
       "        vertical-align: middle;\n",
       "    }\n",
       "\n",
       "    .dataframe tbody tr th {\n",
       "        vertical-align: top;\n",
       "    }\n",
       "\n",
       "    .dataframe thead th {\n",
       "        text-align: right;\n",
       "    }\n",
       "</style>\n",
       "<table border=\"1\" class=\"dataframe\">\n",
       "  <thead>\n",
       "    <tr style=\"text-align: right;\">\n",
       "      <th></th>\n",
       "      <th>Store</th>\n",
       "      <th>DayOfWeek</th>\n",
       "      <th>Date</th>\n",
       "      <th>Sales</th>\n",
       "      <th>Customers</th>\n",
       "      <th>Open</th>\n",
       "      <th>Promo</th>\n",
       "      <th>StateHoliday</th>\n",
       "      <th>SchoolHoliday</th>\n",
       "    </tr>\n",
       "  </thead>\n",
       "  <tbody>\n",
       "    <tr>\n",
       "      <th>0</th>\n",
       "      <td>1</td>\n",
       "      <td>5</td>\n",
       "      <td>2015-07-31</td>\n",
       "      <td>5263</td>\n",
       "      <td>555</td>\n",
       "      <td>1</td>\n",
       "      <td>1</td>\n",
       "      <td>0</td>\n",
       "      <td>1</td>\n",
       "    </tr>\n",
       "    <tr>\n",
       "      <th>1</th>\n",
       "      <td>2</td>\n",
       "      <td>5</td>\n",
       "      <td>2015-07-31</td>\n",
       "      <td>6064</td>\n",
       "      <td>625</td>\n",
       "      <td>1</td>\n",
       "      <td>1</td>\n",
       "      <td>0</td>\n",
       "      <td>1</td>\n",
       "    </tr>\n",
       "    <tr>\n",
       "      <th>2</th>\n",
       "      <td>3</td>\n",
       "      <td>5</td>\n",
       "      <td>2015-07-31</td>\n",
       "      <td>8314</td>\n",
       "      <td>821</td>\n",
       "      <td>1</td>\n",
       "      <td>1</td>\n",
       "      <td>0</td>\n",
       "      <td>1</td>\n",
       "    </tr>\n",
       "    <tr>\n",
       "      <th>3</th>\n",
       "      <td>4</td>\n",
       "      <td>5</td>\n",
       "      <td>2015-07-31</td>\n",
       "      <td>13995</td>\n",
       "      <td>1498</td>\n",
       "      <td>1</td>\n",
       "      <td>1</td>\n",
       "      <td>0</td>\n",
       "      <td>1</td>\n",
       "    </tr>\n",
       "    <tr>\n",
       "      <th>4</th>\n",
       "      <td>5</td>\n",
       "      <td>5</td>\n",
       "      <td>2015-07-31</td>\n",
       "      <td>4822</td>\n",
       "      <td>559</td>\n",
       "      <td>1</td>\n",
       "      <td>1</td>\n",
       "      <td>0</td>\n",
       "      <td>1</td>\n",
       "    </tr>\n",
       "  </tbody>\n",
       "</table>\n",
       "</div>"
      ],
      "text/plain": [
       "   Store  DayOfWeek        Date  Sales  Customers  Open  Promo StateHoliday  \\\n",
       "0      1          5  2015-07-31   5263        555     1      1            0   \n",
       "1      2          5  2015-07-31   6064        625     1      1            0   \n",
       "2      3          5  2015-07-31   8314        821     1      1            0   \n",
       "3      4          5  2015-07-31  13995       1498     1      1            0   \n",
       "4      5          5  2015-07-31   4822        559     1      1            0   \n",
       "\n",
       "   SchoolHoliday  \n",
       "0              1  \n",
       "1              1  \n",
       "2              1  \n",
       "3              1  \n",
       "4              1  "
      ]
     },
     "execution_count": 4,
     "metadata": {},
     "output_type": "execute_result"
    }
   ],
   "source": [
    "train.head()\n"
   ]
  },
  {
   "cell_type": "markdown",
   "id": "5a6b39bb",
   "metadata": {},
   "source": [
    "Converting Date Column to DateTime Data type :"
   ]
  },
  {
   "cell_type": "code",
   "execution_count": 5,
   "id": "ebd0c055",
   "metadata": {},
   "outputs": [],
   "source": [
    "train['Date'] = pd.to_datetime(train['Date']) "
   ]
  },
  {
   "cell_type": "markdown",
   "id": "1c437951",
   "metadata": {},
   "source": [
    "Extracting Date Features :"
   ]
  },
  {
   "cell_type": "code",
   "execution_count": 6,
   "id": "3ae48ba8",
   "metadata": {},
   "outputs": [],
   "source": [
    "train['Year'] = train['Date'].dt.year \n",
    "train['Month'] = train['Date'].dt.month \n",
    "train['Day'] = train['Date'].dt.day"
   ]
  },
  {
   "cell_type": "code",
   "execution_count": 7,
   "id": "63f3f926",
   "metadata": {},
   "outputs": [],
   "source": [
    "train = train.drop('Date',axis=1)"
   ]
  },
  {
   "cell_type": "markdown",
   "id": "45c8108c",
   "metadata": {},
   "source": [
    "# Exploratory Data Analysis"
   ]
  },
  {
   "cell_type": "code",
   "execution_count": 8,
   "id": "34157e0b",
   "metadata": {},
   "outputs": [
    {
     "data": {
      "text/plain": [
       "(1017209, 11)"
      ]
     },
     "execution_count": 8,
     "metadata": {},
     "output_type": "execute_result"
    }
   ],
   "source": [
    "train.shape"
   ]
  },
  {
   "cell_type": "code",
   "execution_count": 9,
   "id": "70b94531",
   "metadata": {},
   "outputs": [
    {
     "data": {
      "text/plain": [
       "Index(['Store', 'DayOfWeek', 'Sales', 'Customers', 'Open', 'Promo',\n",
       "       'StateHoliday', 'SchoolHoliday', 'Year', 'Month', 'Day'],\n",
       "      dtype='object')"
      ]
     },
     "execution_count": 9,
     "metadata": {},
     "output_type": "execute_result"
    }
   ],
   "source": [
    "train.columns"
   ]
  },
  {
   "cell_type": "code",
   "execution_count": 10,
   "id": "fc6853f0",
   "metadata": {},
   "outputs": [
    {
     "name": "stdout",
     "output_type": "stream",
     "text": [
      "<class 'pandas.core.frame.DataFrame'>\n",
      "RangeIndex: 1017209 entries, 0 to 1017208\n",
      "Data columns (total 11 columns):\n",
      " #   Column         Non-Null Count    Dtype \n",
      "---  ------         --------------    ----- \n",
      " 0   Store          1017209 non-null  int64 \n",
      " 1   DayOfWeek      1017209 non-null  int64 \n",
      " 2   Sales          1017209 non-null  int64 \n",
      " 3   Customers      1017209 non-null  int64 \n",
      " 4   Open           1017209 non-null  int64 \n",
      " 5   Promo          1017209 non-null  int64 \n",
      " 6   StateHoliday   1017209 non-null  object\n",
      " 7   SchoolHoliday  1017209 non-null  int64 \n",
      " 8   Year           1017209 non-null  int64 \n",
      " 9   Month          1017209 non-null  int64 \n",
      " 10  Day            1017209 non-null  int64 \n",
      "dtypes: int64(10), object(1)\n",
      "memory usage: 85.4+ MB\n"
     ]
    }
   ],
   "source": [
    "train.info()   "
   ]
  },
  {
   "cell_type": "code",
   "execution_count": 11,
   "id": "bd9083b4",
   "metadata": {},
   "outputs": [
    {
     "data": {
      "text/html": [
       "<div>\n",
       "<style scoped>\n",
       "    .dataframe tbody tr th:only-of-type {\n",
       "        vertical-align: middle;\n",
       "    }\n",
       "\n",
       "    .dataframe tbody tr th {\n",
       "        vertical-align: top;\n",
       "    }\n",
       "\n",
       "    .dataframe thead th {\n",
       "        text-align: right;\n",
       "    }\n",
       "</style>\n",
       "<table border=\"1\" class=\"dataframe\">\n",
       "  <thead>\n",
       "    <tr style=\"text-align: right;\">\n",
       "      <th></th>\n",
       "      <th>count</th>\n",
       "      <th>mean</th>\n",
       "      <th>std</th>\n",
       "      <th>min</th>\n",
       "      <th>25%</th>\n",
       "      <th>50%</th>\n",
       "      <th>75%</th>\n",
       "      <th>max</th>\n",
       "    </tr>\n",
       "  </thead>\n",
       "  <tbody>\n",
       "    <tr>\n",
       "      <th>Store</th>\n",
       "      <td>1017209.0</td>\n",
       "      <td>558.429727</td>\n",
       "      <td>321.908651</td>\n",
       "      <td>1.0</td>\n",
       "      <td>280.0</td>\n",
       "      <td>558.0</td>\n",
       "      <td>838.0</td>\n",
       "      <td>1115.0</td>\n",
       "    </tr>\n",
       "    <tr>\n",
       "      <th>DayOfWeek</th>\n",
       "      <td>1017209.0</td>\n",
       "      <td>3.998341</td>\n",
       "      <td>1.997391</td>\n",
       "      <td>1.0</td>\n",
       "      <td>2.0</td>\n",
       "      <td>4.0</td>\n",
       "      <td>6.0</td>\n",
       "      <td>7.0</td>\n",
       "    </tr>\n",
       "    <tr>\n",
       "      <th>Sales</th>\n",
       "      <td>1017209.0</td>\n",
       "      <td>5773.818972</td>\n",
       "      <td>3849.926175</td>\n",
       "      <td>0.0</td>\n",
       "      <td>3727.0</td>\n",
       "      <td>5744.0</td>\n",
       "      <td>7856.0</td>\n",
       "      <td>41551.0</td>\n",
       "    </tr>\n",
       "    <tr>\n",
       "      <th>Customers</th>\n",
       "      <td>1017209.0</td>\n",
       "      <td>633.145946</td>\n",
       "      <td>464.411734</td>\n",
       "      <td>0.0</td>\n",
       "      <td>405.0</td>\n",
       "      <td>609.0</td>\n",
       "      <td>837.0</td>\n",
       "      <td>7388.0</td>\n",
       "    </tr>\n",
       "    <tr>\n",
       "      <th>Open</th>\n",
       "      <td>1017209.0</td>\n",
       "      <td>0.830107</td>\n",
       "      <td>0.375539</td>\n",
       "      <td>0.0</td>\n",
       "      <td>1.0</td>\n",
       "      <td>1.0</td>\n",
       "      <td>1.0</td>\n",
       "      <td>1.0</td>\n",
       "    </tr>\n",
       "    <tr>\n",
       "      <th>Promo</th>\n",
       "      <td>1017209.0</td>\n",
       "      <td>0.381515</td>\n",
       "      <td>0.485759</td>\n",
       "      <td>0.0</td>\n",
       "      <td>0.0</td>\n",
       "      <td>0.0</td>\n",
       "      <td>1.0</td>\n",
       "      <td>1.0</td>\n",
       "    </tr>\n",
       "    <tr>\n",
       "      <th>SchoolHoliday</th>\n",
       "      <td>1017209.0</td>\n",
       "      <td>0.178647</td>\n",
       "      <td>0.383056</td>\n",
       "      <td>0.0</td>\n",
       "      <td>0.0</td>\n",
       "      <td>0.0</td>\n",
       "      <td>0.0</td>\n",
       "      <td>1.0</td>\n",
       "    </tr>\n",
       "    <tr>\n",
       "      <th>Year</th>\n",
       "      <td>1017209.0</td>\n",
       "      <td>2013.832292</td>\n",
       "      <td>0.777396</td>\n",
       "      <td>2013.0</td>\n",
       "      <td>2013.0</td>\n",
       "      <td>2014.0</td>\n",
       "      <td>2014.0</td>\n",
       "      <td>2015.0</td>\n",
       "    </tr>\n",
       "    <tr>\n",
       "      <th>Month</th>\n",
       "      <td>1017209.0</td>\n",
       "      <td>5.846762</td>\n",
       "      <td>3.326097</td>\n",
       "      <td>1.0</td>\n",
       "      <td>3.0</td>\n",
       "      <td>6.0</td>\n",
       "      <td>8.0</td>\n",
       "      <td>12.0</td>\n",
       "    </tr>\n",
       "    <tr>\n",
       "      <th>Day</th>\n",
       "      <td>1017209.0</td>\n",
       "      <td>15.702790</td>\n",
       "      <td>8.787638</td>\n",
       "      <td>1.0</td>\n",
       "      <td>8.0</td>\n",
       "      <td>16.0</td>\n",
       "      <td>23.0</td>\n",
       "      <td>31.0</td>\n",
       "    </tr>\n",
       "  </tbody>\n",
       "</table>\n",
       "</div>"
      ],
      "text/plain": [
       "                   count         mean          std     min     25%     50%  \\\n",
       "Store          1017209.0   558.429727   321.908651     1.0   280.0   558.0   \n",
       "DayOfWeek      1017209.0     3.998341     1.997391     1.0     2.0     4.0   \n",
       "Sales          1017209.0  5773.818972  3849.926175     0.0  3727.0  5744.0   \n",
       "Customers      1017209.0   633.145946   464.411734     0.0   405.0   609.0   \n",
       "Open           1017209.0     0.830107     0.375539     0.0     1.0     1.0   \n",
       "Promo          1017209.0     0.381515     0.485759     0.0     0.0     0.0   \n",
       "SchoolHoliday  1017209.0     0.178647     0.383056     0.0     0.0     0.0   \n",
       "Year           1017209.0  2013.832292     0.777396  2013.0  2013.0  2014.0   \n",
       "Month          1017209.0     5.846762     3.326097     1.0     3.0     6.0   \n",
       "Day            1017209.0    15.702790     8.787638     1.0     8.0    16.0   \n",
       "\n",
       "                  75%      max  \n",
       "Store           838.0   1115.0  \n",
       "DayOfWeek         6.0      7.0  \n",
       "Sales          7856.0  41551.0  \n",
       "Customers       837.0   7388.0  \n",
       "Open              1.0      1.0  \n",
       "Promo             1.0      1.0  \n",
       "SchoolHoliday     0.0      1.0  \n",
       "Year           2014.0   2015.0  \n",
       "Month             8.0     12.0  \n",
       "Day              23.0     31.0  "
      ]
     },
     "execution_count": 11,
     "metadata": {},
     "output_type": "execute_result"
    }
   ],
   "source": [
    "train.describe().T"
   ]
  },
  {
   "cell_type": "code",
   "execution_count": 12,
   "id": "1be63726",
   "metadata": {},
   "outputs": [
    {
     "data": {
      "text/plain": [
       "Store            0\n",
       "DayOfWeek        0\n",
       "Sales            0\n",
       "Customers        0\n",
       "Open             0\n",
       "Promo            0\n",
       "StateHoliday     0\n",
       "SchoolHoliday    0\n",
       "Year             0\n",
       "Month            0\n",
       "Day              0\n",
       "dtype: int64"
      ]
     },
     "execution_count": 12,
     "metadata": {},
     "output_type": "execute_result"
    }
   ],
   "source": [
    "train.isnull().sum()  "
   ]
  },
  {
   "cell_type": "markdown",
   "id": "fa5a60c4",
   "metadata": {},
   "source": [
    "# Plots"
   ]
  },
  {
   "cell_type": "code",
   "execution_count": 13,
   "id": "da112dc7",
   "metadata": {},
   "outputs": [
    {
     "data": {
      "text/plain": [
       "Text(0.5, 1.0, 'Sales by Year')"
      ]
     },
     "execution_count": 13,
     "metadata": {},
     "output_type": "execute_result"
    },
    {
     "data": {
      "image/png": "[encoded data removed]",
      "text/plain": [
       "<Figure size 432x288 with 1 Axes>"
      ]
     },
     "metadata": {
      "needs_background": "light"
     },
     "output_type": "display_data"
    }
   ],
   "source": [
    "sns.barplot(x = train['Year'], y = train['Sales']) \n",
    "plt.title('Sales by Year')"
   ]
  },
  {
   "cell_type": "markdown",
   "id": "27abe332",
   "metadata": {},
   "source": [
    "Maximum Sales was in Year 2014 and 2015"
   ]
  },
  {
   "cell_type": "code",
   "execution_count": 14,
   "id": "20778d89",
   "metadata": {},
   "outputs": [
    {
     "data": {
      "text/plain": [
       "Text(0.5, 1.0, 'Sales by Month')"
      ]
     },
     "execution_count": 14,
     "metadata": {},
     "output_type": "execute_result"
    },
    {
     "data": {
      "image/png": "[encoded data removed]",
      "text/plain": [
       "<Figure size 432x288 with 1 Axes>"
      ]
     },
     "metadata": {
      "needs_background": "light"
     },
     "output_type": "display_data"
    }
   ],
   "source": [
    "sns.barplot(x = train['Month'], y = train['Sales'])\n",
    "plt.title('Sales by Month')"
   ]
  },
  {
   "cell_type": "markdown",
   "id": "ff7b3860",
   "metadata": {},
   "source": [
    "highest sales was in 12th month i.e, December"
   ]
  },
  {
   "cell_type": "markdown",
   "id": "855d2b40",
   "metadata": {},
   "source": [
    "Creating Function to check various aspects of the dataset :"
   ]
  },
  {
   "cell_type": "code",
   "execution_count": 18,
   "id": "404b45d0",
   "metadata": {},
   "outputs": [],
   "source": [
    "def sniff_modified(df):\n",
    "    data = pd.DataFrame()\n",
    "    data['Data Type'] = df.dtypes                                                        \n",
    "    data['Percent_Missing'] = (df.isnull().sum()*100)/len(df)\n",
    "    data['Unique_values'] = df.apply(lambda x: x.unique())\n",
    "    data['Count_Unique_values'] = df.apply(lambda x: len(x.unique()))\n",
    "    return data.sort_values('Data Type')"
   ]
  },
  {
   "cell_type": "code",
   "execution_count": 19,
   "id": "fd159877",
   "metadata": {},
   "outputs": [
    {
     "data": {
      "text/html": [
       "<div>\n",
       "<style scoped>\n",
       "    .dataframe tbody tr th:only-of-type {\n",
       "        vertical-align: middle;\n",
       "    }\n",
       "\n",
       "    .dataframe tbody tr th {\n",
       "        vertical-align: top;\n",
       "    }\n",
       "\n",
       "    .dataframe thead th {\n",
       "        text-align: right;\n",
       "    }\n",
       "</style>\n",
       "<table border=\"1\" class=\"dataframe\">\n",
       "  <thead>\n",
       "    <tr style=\"text-align: right;\">\n",
       "      <th></th>\n",
       "      <th>Data Type</th>\n",
       "      <th>Percent_Missing</th>\n",
       "      <th>Unique_values</th>\n",
       "      <th>Count_Unique_values</th>\n",
       "    </tr>\n",
       "  </thead>\n",
       "  <tbody>\n",
       "    <tr>\n",
       "      <th>Store</th>\n",
       "      <td>int64</td>\n",
       "      <td>0.0</td>\n",
       "      <td>[1, 2, 3, 4, 5, 6, 7, 8, 9, 10, 11, 12, 13, 14...</td>\n",
       "      <td>1115</td>\n",
       "    </tr>\n",
       "    <tr>\n",
       "      <th>DayOfWeek</th>\n",
       "      <td>int64</td>\n",
       "      <td>0.0</td>\n",
       "      <td>[5, 4, 3, 2, 1, 7, 6]</td>\n",
       "      <td>7</td>\n",
       "    </tr>\n",
       "    <tr>\n",
       "      <th>Sales</th>\n",
       "      <td>int64</td>\n",
       "      <td>0.0</td>\n",
       "      <td>[5263, 6064, 8314, 13995, 4822, 5651, 15344, 8...</td>\n",
       "      <td>21734</td>\n",
       "    </tr>\n",
       "    <tr>\n",
       "      <th>Customers</th>\n",
       "      <td>int64</td>\n",
       "      <td>0.0</td>\n",
       "      <td>[555, 625, 821, 1498, 559, 589, 1414, 833, 687...</td>\n",
       "      <td>4086</td>\n",
       "    </tr>\n",
       "    <tr>\n",
       "      <th>Open</th>\n",
       "      <td>int64</td>\n",
       "      <td>0.0</td>\n",
       "      <td>[1, 0]</td>\n",
       "      <td>2</td>\n",
       "    </tr>\n",
       "    <tr>\n",
       "      <th>Promo</th>\n",
       "      <td>int64</td>\n",
       "      <td>0.0</td>\n",
       "      <td>[1, 0]</td>\n",
       "      <td>2</td>\n",
       "    </tr>\n",
       "    <tr>\n",
       "      <th>SchoolHoliday</th>\n",
       "      <td>int64</td>\n",
       "      <td>0.0</td>\n",
       "      <td>[1, 0]</td>\n",
       "      <td>2</td>\n",
       "    </tr>\n",
       "    <tr>\n",
       "      <th>Year</th>\n",
       "      <td>int64</td>\n",
       "      <td>0.0</td>\n",
       "      <td>[2015, 2014, 2013]</td>\n",
       "      <td>3</td>\n",
       "    </tr>\n",
       "    <tr>\n",
       "      <th>Month</th>\n",
       "      <td>int64</td>\n",
       "      <td>0.0</td>\n",
       "      <td>[7, 6, 5, 4, 3, 2, 1, 12, 11, 10, 9, 8]</td>\n",
       "      <td>12</td>\n",
       "    </tr>\n",
       "    <tr>\n",
       "      <th>Day</th>\n",
       "      <td>int64</td>\n",
       "      <td>0.0</td>\n",
       "      <td>[31, 30, 29, 28, 27, 26, 25, 24, 23, 22, 21, 2...</td>\n",
       "      <td>31</td>\n",
       "    </tr>\n",
       "    <tr>\n",
       "      <th>StateHoliday</th>\n",
       "      <td>object</td>\n",
       "      <td>0.0</td>\n",
       "      <td>[0, a, b, c]</td>\n",
       "      <td>4</td>\n",
       "    </tr>\n",
       "  </tbody>\n",
       "</table>\n",
       "</div>"
      ],
      "text/plain": [
       "              Data Type  Percent_Missing  \\\n",
       "Store             int64              0.0   \n",
       "DayOfWeek         int64              0.0   \n",
       "Sales             int64              0.0   \n",
       "Customers         int64              0.0   \n",
       "Open              int64              0.0   \n",
       "Promo             int64              0.0   \n",
       "SchoolHoliday     int64              0.0   \n",
       "Year              int64              0.0   \n",
       "Month             int64              0.0   \n",
       "Day               int64              0.0   \n",
       "StateHoliday     object              0.0   \n",
       "\n",
       "                                                   Unique_values  \\\n",
       "Store          [1, 2, 3, 4, 5, 6, 7, 8, 9, 10, 11, 12, 13, 14...   \n",
       "DayOfWeek                                  [5, 4, 3, 2, 1, 7, 6]   \n",
       "Sales          [5263, 6064, 8314, 13995, 4822, 5651, 15344, 8...   \n",
       "Customers      [555, 625, 821, 1498, 559, 589, 1414, 833, 687...   \n",
       "Open                                                      [1, 0]   \n",
       "Promo                                                     [1, 0]   \n",
       "SchoolHoliday                                             [1, 0]   \n",
       "Year                                          [2015, 2014, 2013]   \n",
       "Month                    [7, 6, 5, 4, 3, 2, 1, 12, 11, 10, 9, 8]   \n",
       "Day            [31, 30, 29, 28, 27, 26, 25, 24, 23, 22, 21, 2...   \n",
       "StateHoliday                                        [0, a, b, c]   \n",
       "\n",
       "               Count_Unique_values  \n",
       "Store                         1115  \n",
       "DayOfWeek                        7  \n",
       "Sales                        21734  \n",
       "Customers                     4086  \n",
       "Open                             2  \n",
       "Promo                            2  \n",
       "SchoolHoliday                    2  \n",
       "Year                             3  \n",
       "Month                           12  \n",
       "Day                             31  \n",
       "StateHoliday                     4  "
      ]
     },
     "execution_count": 19,
     "metadata": {},
     "output_type": "execute_result"
    }
   ],
   "source": [
    "sniff_modified(train)"
   ]
  },
  {
   "cell_type": "code",
   "execution_count": 22,
   "id": "e598ff1d",
   "metadata": {},
   "outputs": [],
   "source": [
    "import category_encoders as ce\n",
    "encoder = ce.OrdinalEncoder(mapping=[{'col':'StateHoliday','mapping':{'0':0,'a':1,'b':2,'c':3}}])\n",
    "encoder.fit(train)\n",
    "train = encoder.transform(train)"
   ]
  },
  {
   "cell_type": "markdown",
   "id": "fafb1cc1",
   "metadata": {},
   "source": [
    "# Training The Model"
   ]
  },
  {
   "cell_type": "code",
   "execution_count": 23,
   "id": "84f9c0bb",
   "metadata": {},
   "outputs": [
    {
     "data": {
      "text/plain": [
       "RandomForestRegressor(n_jobs=-1)"
      ]
     },
     "execution_count": 23,
     "metadata": {},
     "output_type": "execute_result"
    }
   ],
   "source": [
    "from sklearn.ensemble import RandomForestRegressor\n",
    "from sklearn.metrics import r2_score,accuracy_score,mean_absolute_error\n",
    "from sklearn.model_selection import train_test_split\n",
    "x = train.drop('Sales',axis = 1)\n",
    "y = train['Sales']\n",
    "X_train,X_test,y_train,y_test = train_test_split(x,y,test_size = 0.20)\n",
    "rf = RandomForestRegressor(n_jobs = -1,n_estimators=100)\n",
    "rf.fit(X_train,y_train)"
   ]
  },
  {
   "cell_type": "code",
   "execution_count": 24,
   "id": "233a7b34",
   "metadata": {},
   "outputs": [],
   "source": [
    "prediction = rf.predict(X_test)\n",
    "r2 = r2_score(y_test,prediction)\n",
    "e = mean_absolute_error(y_test,prediction)\n",
    "ep = e*100 / y_test.mean()"
   ]
  },
  {
   "cell_type": "code",
   "execution_count": 25,
   "id": "e0dd2bf9",
   "metadata": {},
   "outputs": [
    {
     "name": "stdout",
     "output_type": "stream",
     "text": [
      "R^2 Score :0.96\n"
     ]
    }
   ],
   "source": [
    "print(f\"R^2 Score :{r2:.2f}\")"
   ]
  },
  {
   "cell_type": "code",
   "execution_count": 26,
   "id": "91b1cf53",
   "metadata": {},
   "outputs": [
    {
     "name": "stdout",
     "output_type": "stream",
     "text": [
      "$470 error; 8.14% error\n"
     ]
    }
   ],
   "source": [
    "print(f\"${e:.0f} error; {ep:.2f}% error\")"
   ]
  },
  {
   "cell_type": "code",
   "execution_count": 27,
   "id": "81b5932c",
   "metadata": {},
   "outputs": [],
   "source": [
    "output = pd.DataFrame({'Actual_Values':y_test,'Predictions':prediction})"
   ]
  },
  {
   "cell_type": "code",
   "execution_count": 28,
   "id": "ec1269ba",
   "metadata": {},
   "outputs": [
    {
     "data": {
      "text/html": [
       "<div>\n",
       "<style scoped>\n",
       "    .dataframe tbody tr th:only-of-type {\n",
       "        vertical-align: middle;\n",
       "    }\n",
       "\n",
       "    .dataframe tbody tr th {\n",
       "        vertical-align: top;\n",
       "    }\n",
       "\n",
       "    .dataframe thead th {\n",
       "        text-align: right;\n",
       "    }\n",
       "</style>\n",
       "<table border=\"1\" class=\"dataframe\">\n",
       "  <thead>\n",
       "    <tr style=\"text-align: right;\">\n",
       "      <th></th>\n",
       "      <th>Actual_Values</th>\n",
       "      <th>Predictions</th>\n",
       "    </tr>\n",
       "  </thead>\n",
       "  <tbody>\n",
       "    <tr>\n",
       "      <th>876867</th>\n",
       "      <td>9225</td>\n",
       "      <td>9027.68</td>\n",
       "    </tr>\n",
       "    <tr>\n",
       "      <th>934965</th>\n",
       "      <td>3745</td>\n",
       "      <td>3641.16</td>\n",
       "    </tr>\n",
       "    <tr>\n",
       "      <th>275889</th>\n",
       "      <td>4983</td>\n",
       "      <td>5345.60</td>\n",
       "    </tr>\n",
       "    <tr>\n",
       "      <th>627106</th>\n",
       "      <td>16353</td>\n",
       "      <td>17958.03</td>\n",
       "    </tr>\n",
       "    <tr>\n",
       "      <th>918021</th>\n",
       "      <td>9562</td>\n",
       "      <td>11022.88</td>\n",
       "    </tr>\n",
       "    <tr>\n",
       "      <th>968817</th>\n",
       "      <td>7118</td>\n",
       "      <td>6963.04</td>\n",
       "    </tr>\n",
       "    <tr>\n",
       "      <th>928003</th>\n",
       "      <td>5653</td>\n",
       "      <td>5806.58</td>\n",
       "    </tr>\n",
       "    <tr>\n",
       "      <th>103893</th>\n",
       "      <td>10171</td>\n",
       "      <td>7934.71</td>\n",
       "    </tr>\n",
       "    <tr>\n",
       "      <th>76761</th>\n",
       "      <td>0</td>\n",
       "      <td>0.00</td>\n",
       "    </tr>\n",
       "    <tr>\n",
       "      <th>316936</th>\n",
       "      <td>8725</td>\n",
       "      <td>8133.48</td>\n",
       "    </tr>\n",
       "    <tr>\n",
       "      <th>681209</th>\n",
       "      <td>6190</td>\n",
       "      <td>6455.90</td>\n",
       "    </tr>\n",
       "    <tr>\n",
       "      <th>264176</th>\n",
       "      <td>7932</td>\n",
       "      <td>6981.23</td>\n",
       "    </tr>\n",
       "    <tr>\n",
       "      <th>705656</th>\n",
       "      <td>7655</td>\n",
       "      <td>8108.53</td>\n",
       "    </tr>\n",
       "    <tr>\n",
       "      <th>80492</th>\n",
       "      <td>9124</td>\n",
       "      <td>8802.82</td>\n",
       "    </tr>\n",
       "    <tr>\n",
       "      <th>491768</th>\n",
       "      <td>7540</td>\n",
       "      <td>8409.51</td>\n",
       "    </tr>\n",
       "    <tr>\n",
       "      <th>488844</th>\n",
       "      <td>7438</td>\n",
       "      <td>7503.38</td>\n",
       "    </tr>\n",
       "    <tr>\n",
       "      <th>188351</th>\n",
       "      <td>9934</td>\n",
       "      <td>8958.75</td>\n",
       "    </tr>\n",
       "    <tr>\n",
       "      <th>64489</th>\n",
       "      <td>6462</td>\n",
       "      <td>6911.31</td>\n",
       "    </tr>\n",
       "    <tr>\n",
       "      <th>73749</th>\n",
       "      <td>5083</td>\n",
       "      <td>5496.78</td>\n",
       "    </tr>\n",
       "    <tr>\n",
       "      <th>379215</th>\n",
       "      <td>7992</td>\n",
       "      <td>8185.42</td>\n",
       "    </tr>\n",
       "  </tbody>\n",
       "</table>\n",
       "</div>"
      ],
      "text/plain": [
       "        Actual_Values  Predictions\n",
       "876867           9225      9027.68\n",
       "934965           3745      3641.16\n",
       "275889           4983      5345.60\n",
       "627106          16353     17958.03\n",
       "918021           9562     11022.88\n",
       "968817           7118      6963.04\n",
       "928003           5653      5806.58\n",
       "103893          10171      7934.71\n",
       "76761               0         0.00\n",
       "316936           8725      8133.48\n",
       "681209           6190      6455.90\n",
       "264176           7932      6981.23\n",
       "705656           7655      8108.53\n",
       "80492            9124      8802.82\n",
       "491768           7540      8409.51\n",
       "488844           7438      7503.38\n",
       "188351           9934      8958.75\n",
       "64489            6462      6911.31\n",
       "73749            5083      5496.78\n",
       "379215           7992      8185.42"
      ]
     },
     "execution_count": 28,
     "metadata": {},
     "output_type": "execute_result"
    }
   ],
   "source": [
    "output.head(20)"
   ]
  },
  {
   "cell_type": "code",
   "execution_count": null,
   "id": "d9ef2f29",
   "metadata": {},
   "outputs": [],
   "source": []
  }
 ],
 "metadata": {
  "kernelspec": {
   "display_name": "Python 3",
   "language": "python",
   "name": "python3"
  },
  "language_info": {
   "codemirror_mode": {
    "name": "ipython",
    "version": 3
   },
   "file_extension": ".py",
   "mimetype": "text/x-python",
   "name": "python",
   "nbconvert_exporter": "python",
   "pygments_lexer": "ipython3",
   "version": "3.7.6"
  }
 },
 "nbformat": 4,
 "nbformat_minor": 5
}
